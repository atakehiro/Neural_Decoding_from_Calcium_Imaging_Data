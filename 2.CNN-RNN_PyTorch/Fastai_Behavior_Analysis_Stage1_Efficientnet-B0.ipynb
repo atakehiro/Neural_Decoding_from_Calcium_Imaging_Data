{
 "cells": [
  {
   "cell_type": "markdown",
   "metadata": {},
   "source": [
    "Copyright 2021 Takehiro Ajioka"
   ]
  },
  {
   "cell_type": "markdown",
   "metadata": {},
   "source": [
    "### Enviroment\n",
    "\n",
    "Python 3.6\n",
    "Anaconda\n",
    "pytorch==1.9.0_cuda11.1\n",
    "fastai==2.5.2\n",
    "tifffile==2020.9.3\n",
    "opencv-python==4.5.3.56\n",
    "efficientnet-pytorch==0.7.1\n",
    "tqdm==4.47.0"
   ]
  },
  {
   "cell_type": "markdown",
   "metadata": {},
   "source": [
    "# EfficientNetB0 Pretraining"
   ]
  },
  {
   "cell_type": "code",
   "execution_count": 1,
   "metadata": {},
   "outputs": [],
   "source": [
    "import pandas as pd\n",
    "import numpy as np\n",
    "from matplotlib import pyplot as plt"
   ]
  },
  {
   "cell_type": "code",
   "execution_count": 2,
   "metadata": {},
   "outputs": [],
   "source": [
    "# Data allocation (Mouse #)\n",
    "TRAIN = [1,2,3]\n",
    "VALID = [4]\n",
    "TEST = [5]"
   ]
  },
  {
   "cell_type": "code",
   "execution_count": 3,
   "metadata": {},
   "outputs": [],
   "source": [
    "TRAIN = f'[{TRAIN[0]}{TRAIN[1]}{TRAIN[2]}]'\n",
    "VALID = VALID[0]\n",
    "TEST = TEST[0]"
   ]
  },
  {
   "cell_type": "code",
   "execution_count": 4,
   "metadata": {},
   "outputs": [
    {
     "name": "stdout",
     "output_type": "stream",
     "text": [
      "[123]\n",
      "4\n",
      "5\n"
     ]
    }
   ],
   "source": [
    "print(TRAIN)\n",
    "print(VALID)\n",
    "print(TEST)"
   ]
  },
  {
   "cell_type": "markdown",
   "metadata": {},
   "source": [
    "# Training"
   ]
  },
  {
   "cell_type": "code",
   "execution_count": 5,
   "metadata": {},
   "outputs": [],
   "source": [
    "import torch\n",
    "from torch import nn, optim\n",
    "import torch.nn.functional as F\n",
    "from torch.utils.data import DataLoader"
   ]
  },
  {
   "cell_type": "code",
   "execution_count": 6,
   "metadata": {},
   "outputs": [
    {
     "data": {
      "text/plain": [
       "<torch._C.Generator at 0x7f7acbeff9c0>"
      ]
     },
     "execution_count": 6,
     "metadata": {},
     "output_type": "execute_result"
    }
   ],
   "source": [
    "# Random seed\n",
    "import os, random\n",
    "SEED = 2021\n",
    "\n",
    "def seed_everything(seed):\n",
    "    random.seed(seed)\n",
    "    os.environ['PYTHONHASHSEED'] = str(seed)\n",
    "    np.random.seed(seed)\n",
    "    torch.manual_seed(seed)\n",
    "    torch.cuda.manual_seed(seed)\n",
    "    torch.backends.cudnn.benchmark = False\n",
    "    torch.use_deterministic_algorithms = True\n",
    "    torch.backends.cudnn.deterministic = True\n",
    "\n",
    "def seed_worker(worker_id):\n",
    "    worker_seed = torch.initial_seed() % 2**32\n",
    "    np.random.seed(worker_seed)\n",
    "    random.seed(worker_seed)\n",
    "\n",
    "seed_everything(SEED)\n",
    "generator = torch.Generator()\n",
    "generator.manual_seed(SEED)"
   ]
  },
  {
   "cell_type": "code",
   "execution_count": 7,
   "metadata": {},
   "outputs": [
    {
     "name": "stdout",
     "output_type": "stream",
     "text": [
      "Loaded pretrained weights for efficientnet-b0\n"
     ]
    }
   ],
   "source": [
    "BATCH_SIZE = 128 #512\n",
    "VER = 'b0'\n",
    "from efficientnet_pytorch import EfficientNet\n",
    "cnn = EfficientNet.from_pretrained('efficientnet-'+VER, num_classes=1)"
   ]
  },
  {
   "cell_type": "code",
   "execution_count": 8,
   "metadata": {},
   "outputs": [],
   "source": [
    "# Model\n",
    "model = cnn.cuda()"
   ]
  },
  {
   "cell_type": "code",
   "execution_count": 9,
   "metadata": {},
   "outputs": [
    {
     "name": "stdout",
     "output_type": "stream",
     "text": [
      "4008829\n"
     ]
    }
   ],
   "source": [
    "# Count number of parameters\n",
    "params = 0\n",
    "for p in model.parameters():\n",
    "    if p.requires_grad:\n",
    "        params += p.numel()\n",
    "print(params) "
   ]
  },
  {
   "cell_type": "code",
   "execution_count": 10,
   "metadata": {},
   "outputs": [
    {
     "data": {
      "text/html": [
       "<div>\n",
       "<style scoped>\n",
       "    .dataframe tbody tr th:only-of-type {\n",
       "        vertical-align: middle;\n",
       "    }\n",
       "\n",
       "    .dataframe tbody tr th {\n",
       "        vertical-align: top;\n",
       "    }\n",
       "\n",
       "    .dataframe thead th {\n",
       "        text-align: right;\n",
       "    }\n",
       "</style>\n",
       "<table border=\"1\" class=\"dataframe\">\n",
       "  <thead>\n",
       "    <tr style=\"text-align: right;\">\n",
       "      <th></th>\n",
       "      <th>Data_ID</th>\n",
       "      <th>Mouse_#</th>\n",
       "    </tr>\n",
       "  </thead>\n",
       "  <tbody>\n",
       "    <tr>\n",
       "      <th>0</th>\n",
       "      <td>20180125_Emx1G6_LR_1</td>\n",
       "      <td>1</td>\n",
       "    </tr>\n",
       "    <tr>\n",
       "      <th>1</th>\n",
       "      <td>20180125_Emx1G6_R_1</td>\n",
       "      <td>3</td>\n",
       "    </tr>\n",
       "    <tr>\n",
       "      <th>2</th>\n",
       "      <td>20180125_Emx1G6_non_1</td>\n",
       "      <td>2</td>\n",
       "    </tr>\n",
       "    <tr>\n",
       "      <th>3</th>\n",
       "      <td>20180126_Emx1G6_LR_1</td>\n",
       "      <td>1</td>\n",
       "    </tr>\n",
       "    <tr>\n",
       "      <th>4</th>\n",
       "      <td>20180126_Emx1G6_R_1</td>\n",
       "      <td>3</td>\n",
       "    </tr>\n",
       "    <tr>\n",
       "      <th>...</th>\n",
       "      <td>...</td>\n",
       "      <td>...</td>\n",
       "    </tr>\n",
       "    <tr>\n",
       "      <th>59</th>\n",
       "      <td>20180411_Emx1G6_non_1</td>\n",
       "      <td>5</td>\n",
       "    </tr>\n",
       "    <tr>\n",
       "      <th>60</th>\n",
       "      <td>20180412_Emx1G6_L_1</td>\n",
       "      <td>4</td>\n",
       "    </tr>\n",
       "    <tr>\n",
       "      <th>61</th>\n",
       "      <td>20180412_Emx1G6_non_1</td>\n",
       "      <td>5</td>\n",
       "    </tr>\n",
       "    <tr>\n",
       "      <th>62</th>\n",
       "      <td>20180413_Emx1G6_L_1</td>\n",
       "      <td>4</td>\n",
       "    </tr>\n",
       "    <tr>\n",
       "      <th>63</th>\n",
       "      <td>20180413_Emx1G6_non_1</td>\n",
       "      <td>5</td>\n",
       "    </tr>\n",
       "  </tbody>\n",
       "</table>\n",
       "<p>64 rows × 2 columns</p>\n",
       "</div>"
      ],
      "text/plain": [
       "                  Data_ID  Mouse_#\n",
       "0    20180125_Emx1G6_LR_1        1\n",
       "1     20180125_Emx1G6_R_1        3\n",
       "2   20180125_Emx1G6_non_1        2\n",
       "3    20180126_Emx1G6_LR_1        1\n",
       "4     20180126_Emx1G6_R_1        3\n",
       "..                    ...      ...\n",
       "59  20180411_Emx1G6_non_1        5\n",
       "60    20180412_Emx1G6_L_1        4\n",
       "61  20180412_Emx1G6_non_1        5\n",
       "62    20180413_Emx1G6_L_1        4\n",
       "63  20180413_Emx1G6_non_1        5\n",
       "\n",
       "[64 rows x 2 columns]"
      ]
     },
     "execution_count": 10,
     "metadata": {},
     "output_type": "execute_result"
    }
   ],
   "source": [
    "df = pd.read_csv('./data_64_5mice.csv')\n",
    "df"
   ]
  },
  {
   "cell_type": "code",
   "execution_count": 11,
   "metadata": {},
   "outputs": [],
   "source": [
    "# parameter fof normalizing\n",
    "mean_dict = {}\n",
    "std_dict = {}\n",
    "save_path = './mean_and_std/'\n",
    "\n",
    "for i in df['Data_ID']:\n",
    "    m = np.load(save_path + i + '_mean.npy')\n",
    "    s = np.load(save_path + i + '_std.npy')\n",
    "    mean_dict[i] = m\n",
    "    std_dict[i] = s"
   ]
  },
  {
   "cell_type": "code",
   "execution_count": 12,
   "metadata": {},
   "outputs": [],
   "source": [
    "import glob\n",
    "import re"
   ]
  },
  {
   "cell_type": "code",
   "execution_count": 13,
   "metadata": {},
   "outputs": [],
   "source": [
    "# Dataset\n",
    "class ImageLoadDataset:\n",
    "    def __init__(self, file_names):\n",
    "        self.files = file_names\n",
    "        \n",
    "    def __len__(self):\n",
    "        return (len(self.files))\n",
    "    \n",
    "    def __getitem__(self, idx):\n",
    "        npz_path = self.files[idx]\n",
    "        xy_data = np.load(npz_path)\n",
    "        experiment_name = npz_path[len('./npz_data/1/'):-len(re.search('_\\d+.npz',npz_path).group())] # Data_ID\n",
    "        mean = mean_dict[experiment_name]\n",
    "        std = std_dict[experiment_name]\n",
    "        x_tmp = (xy_data['image'] - mean) / std # Normalize\n",
    "        x = torch.tensor(x_tmp, dtype=torch.float)\n",
    "        y = torch.tensor(xy_data['label'], dtype=torch.float)            \n",
    "        return x, y"
   ]
  },
  {
   "cell_type": "code",
   "execution_count": 14,
   "metadata": {},
   "outputs": [],
   "source": [
    "# Dataset setting\n",
    "from fastai.data.core import DataLoaders\n",
    "ds_train = ImageLoadDataset(glob.glob(f'./npz_data/{TRAIN}/*.npz'))\n",
    "ds_valid = ImageLoadDataset(glob.glob(f'./npz_data/{VALID}/*.npz'))\n",
    "dls = DataLoaders.from_dsets(ds_train, ds_valid, bs=BATCH_SIZE, shuffle=True,\n",
    "        num_workers=10, pin_memory=True, worker_init_fn=seed_worker, generator=generator).cuda()"
   ]
  },
  {
   "cell_type": "code",
   "execution_count": 15,
   "metadata": {},
   "outputs": [],
   "source": [
    "# Learn setting\n",
    "from fastai.vision.all import Learner, ShowGraphCallback, SaveModelCallback\n",
    "loss = nn.BCEWithLogitsLoss()\n",
    "learn = Learner(dls, model, loss_func=loss)\n",
    "callbacks = [SaveModelCallback(monitor='valid_loss', comp=np.less), ShowGraphCallback()]"
   ]
  },
  {
   "cell_type": "code",
   "execution_count": 16,
   "metadata": {
    "scrolled": false
   },
   "outputs": [
    {
     "data": {
      "text/html": [
       "<table border=\"1\" class=\"dataframe\">\n",
       "  <thead>\n",
       "    <tr style=\"text-align: left;\">\n",
       "      <th>epoch</th>\n",
       "      <th>train_loss</th>\n",
       "      <th>valid_loss</th>\n",
       "      <th>time</th>\n",
       "    </tr>\n",
       "  </thead>\n",
       "  <tbody>\n",
       "    <tr>\n",
       "      <td>0</td>\n",
       "      <td>0.114189</td>\n",
       "      <td>0.355149</td>\n",
       "      <td>10:03</td>\n",
       "    </tr>\n",
       "    <tr>\n",
       "      <td>1</td>\n",
       "      <td>0.065035</td>\n",
       "      <td>0.386564</td>\n",
       "      <td>10:01</td>\n",
       "    </tr>\n",
       "  </tbody>\n",
       "</table>"
      ],
      "text/plain": [
       "<IPython.core.display.HTML object>"
      ]
     },
     "metadata": {},
     "output_type": "display_data"
    },
    {
     "name": "stdout",
     "output_type": "stream",
     "text": [
      "Better model found at epoch 0 with valid_loss value: 0.355148583650589.\n"
     ]
    },
    {
     "data": {
      "image/png": "[encoded data removed]",
      "text/plain": [
       "<Figure size 432x288 with 1 Axes>"
      ]
     },
     "metadata": {},
     "output_type": "display_data"
    }
   ],
   "source": [
    "# Training\n",
    "Epoch = 2\n",
    "learn.fit_one_cycle(Epoch, lr_max=1e-3, cbs=callbacks)"
   ]
  },
  {
   "cell_type": "code",
   "execution_count": 17,
   "metadata": {},
   "outputs": [],
   "source": [
    "# Save model\n",
    "torch.save(learn.model.state_dict(),f'./stage1_model/model_EfficientNet{VER}_valid{VALID}_test{TEST}.pth')"
   ]
  },
  {
   "cell_type": "markdown",
   "metadata": {},
   "source": [
    "# Inference"
   ]
  },
  {
   "cell_type": "code",
   "execution_count": 18,
   "metadata": {},
   "outputs": [
    {
     "data": {
      "text/plain": [
       "<All keys matched successfully>"
      ]
     },
     "execution_count": 18,
     "metadata": {},
     "output_type": "execute_result"
    }
   ],
   "source": [
    "# Load model\n",
    "learn.model.load_state_dict(torch.load(f'./stage1_model/model_EfficientNet{VER}_valid{VALID}_test{TEST}.pth'))"
   ]
  },
  {
   "cell_type": "code",
   "execution_count": 19,
   "metadata": {},
   "outputs": [],
   "source": [
    "from tqdm.auto import tqdm\n",
    "import gc\n",
    "\n",
    "def inference_1_image(file_path):\n",
    "    Y_pred = np.zeros([len(file_path), 1])\n",
    "    Y_true = np.zeros([len(file_path), 1])\n",
    "    ds_i = ImageLoadDataset(file_path)\n",
    "    infe = DataLoader(ds_i, batch_size=BATCH_SIZE, shuffle=False, num_workers=10, pin_memory=True)\n",
    "    tqdm_loader = tqdm(infe)\n",
    "    for idx, (imgs,labels) in enumerate(tqdm_loader):\n",
    "        bs = labels.shape[0]\n",
    "        Y_pred[idx*BATCH_SIZE:idx*BATCH_SIZE+bs] = torch.sigmoid(learn.model(imgs.cuda())).cpu().detach().numpy()\n",
    "        Y_true[idx*BATCH_SIZE:idx*BATCH_SIZE+bs] = labels\n",
    "    del ds_i, infe, tqdm_loader\n",
    "    gc.collect();\n",
    "    return Y_pred, Y_true"
   ]
  },
  {
   "cell_type": "code",
   "execution_count": 20,
   "metadata": {},
   "outputs": [
    {
     "name": "stdout",
     "output_type": "stream",
     "text": [
      "['./npz_data/5/20180326_Emx1G6_non_1', './npz_data/5/20180405_Emx1G6_non_1', './npz_data/5/20180327_Emx1G6_non_1', './npz_data/5/20180412_Emx1G6_non_1', './npz_data/5/20180328_Emx1G6_non_1', './npz_data/5/20180409_Emx1G6_non_1', './npz_data/5/20180406_Emx1G6_non_1', './npz_data/5/20180323_Emx1G6_non_1', './npz_data/5/20180321_Emx1G6_non_1', './npz_data/5/20180403_Emx1G6_non_1', './npz_data/5/20180413_Emx1G6_non_1', './npz_data/5/20180411_Emx1G6_non_1']\n"
     ]
    }
   ],
   "source": [
    "test_folder = glob.glob(f'./npz_data/{TEST}/*_0.npz')\n",
    "exp_path = [test_folder[i].rstrip('_0.npz') for i in range(len(test_folder))]\n",
    "print(exp_path)"
   ]
  },
  {
   "cell_type": "code",
   "execution_count": 21,
   "metadata": {},
   "outputs": [],
   "source": [
    "from sklearn.metrics import roc_curve\n",
    "from sklearn.metrics import auc, roc_auc_score\n",
    "\n",
    "def calculate_accuracy(exp_paths):\n",
    "    Y_pred_all = []\n",
    "    Y_true_all = []\n",
    "    acc = np.zeros(len(exp_paths))\n",
    "    for i, exp_path in enumerate(exp_paths):\n",
    "        print(exp_path)\n",
    "        files = glob.glob(exp_path + '*.npz')\n",
    "        print(f'frame number: {len(files)}')\n",
    "        Y_pred, Y_true = inference_1_image([exp_path + f'_{i}.npz' for i in range(len(files))])\n",
    "        Y_pred_all.append(Y_pred)\n",
    "        Y_true_all.append(Y_true)\n",
    "        output = Y_pred > 0.5\n",
    "        accuracy = (output == Y_true).mean()\n",
    "        print('Accuracy: {}'.format(accuracy))\n",
    "        AUC = roc_auc_score(Y_true, Y_pred)\n",
    "        print(f'AUC: {AUC}')\n",
    "        acc[i] = accuracy\n",
    "    print('Mean Accuracy: {}'.format(acc.mean()))\n",
    "    return Y_pred_all, Y_true_all"
   ]
  },
  {
   "cell_type": "code",
   "execution_count": 22,
   "metadata": {},
   "outputs": [
    {
     "name": "stdout",
     "output_type": "stream",
     "text": [
      "./npz_data/5/20180326_Emx1G6_non_1\n",
      "frame number: 17998\n"
     ]
    },
    {
     "data": {
      "application/vnd.jupyter.widget-view+json": {
       "model_id": "115aceb2a10e4db4978bb932784e9057",
       "version_major": 2,
       "version_minor": 0
      },
      "text/plain": [
       "HBox(children=(FloatProgress(value=0.0, max=141.0), HTML(value='')))"
      ]
     },
     "metadata": {},
     "output_type": "display_data"
    },
    {
     "name": "stdout",
     "output_type": "stream",
     "text": [
      "\n",
      "Accuracy: 0.8491499055450605\n",
      "AUC: 0.8920750550573798\n",
      "./npz_data/5/20180405_Emx1G6_non_1\n",
      "frame number: 17998\n"
     ]
    },
    {
     "data": {
      "application/vnd.jupyter.widget-view+json": {
       "model_id": "5abb1098a4674c598d904d627e6127d5",
       "version_major": 2,
       "version_minor": 0
      },
      "text/plain": [
       "HBox(children=(FloatProgress(value=0.0, max=141.0), HTML(value='')))"
      ]
     },
     "metadata": {},
     "output_type": "display_data"
    },
    {
     "name": "stdout",
     "output_type": "stream",
     "text": [
      "\n",
      "Accuracy: 0.8735970663407046\n",
      "AUC: 0.8953603019237037\n",
      "./npz_data/5/20180327_Emx1G6_non_1\n",
      "frame number: 17998\n"
     ]
    },
    {
     "data": {
      "application/vnd.jupyter.widget-view+json": {
       "model_id": "cae2a9938b5e4fe0bd75c24b4bb4f252",
       "version_major": 2,
       "version_minor": 0
      },
      "text/plain": [
       "HBox(children=(FloatProgress(value=0.0, max=141.0), HTML(value='')))"
      ]
     },
     "metadata": {},
     "output_type": "display_data"
    },
    {
     "name": "stdout",
     "output_type": "stream",
     "text": [
      "\n",
      "Accuracy: 0.746249583287032\n",
      "AUC: 0.9518168073767403\n",
      "./npz_data/5/20180412_Emx1G6_non_1\n",
      "frame number: 17998\n"
     ]
    },
    {
     "data": {
      "application/vnd.jupyter.widget-view+json": {
       "model_id": "3e6f596c9f734f6ca06dd4ba93471387",
       "version_major": 2,
       "version_minor": 0
      },
      "text/plain": [
       "HBox(children=(FloatProgress(value=0.0, max=141.0), HTML(value='')))"
      ]
     },
     "metadata": {},
     "output_type": "display_data"
    },
    {
     "name": "stdout",
     "output_type": "stream",
     "text": [
      "\n",
      "Accuracy: 0.7995332814757196\n",
      "AUC: 0.913023337518744\n",
      "./npz_data/5/20180328_Emx1G6_non_1\n",
      "frame number: 17998\n"
     ]
    },
    {
     "data": {
      "application/vnd.jupyter.widget-view+json": {
       "model_id": "0793489b3fc2413eb7577e0f5490db44",
       "version_major": 2,
       "version_minor": 0
      },
      "text/plain": [
       "HBox(children=(FloatProgress(value=0.0, max=141.0), HTML(value='')))"
      ]
     },
     "metadata": {},
     "output_type": "display_data"
    },
    {
     "name": "stdout",
     "output_type": "stream",
     "text": [
      "\n",
      "Accuracy: 0.8597066340704522\n",
      "AUC: 0.9103873696715554\n",
      "./npz_data/5/20180409_Emx1G6_non_1\n",
      "frame number: 17998\n"
     ]
    },
    {
     "data": {
      "application/vnd.jupyter.widget-view+json": {
       "model_id": "46e59e2044cd42f28c581fefdb394b93",
       "version_major": 2,
       "version_minor": 0
      },
      "text/plain": [
       "HBox(children=(FloatProgress(value=0.0, max=141.0), HTML(value='')))"
      ]
     },
     "metadata": {},
     "output_type": "display_data"
    },
    {
     "name": "stdout",
     "output_type": "stream",
     "text": [
      "\n",
      "Accuracy: 0.8483720413379264\n",
      "AUC: 0.9500969953803411\n",
      "./npz_data/5/20180406_Emx1G6_non_1\n",
      "frame number: 17998\n"
     ]
    },
    {
     "data": {
      "application/vnd.jupyter.widget-view+json": {
       "model_id": "5901fd32b13342c38470f1f12fd1d6c0",
       "version_major": 2,
       "version_minor": 0
      },
      "text/plain": [
       "HBox(children=(FloatProgress(value=0.0, max=141.0), HTML(value='')))"
      ]
     },
     "metadata": {},
     "output_type": "display_data"
    },
    {
     "name": "stdout",
     "output_type": "stream",
     "text": [
      "\n",
      "Accuracy: 0.9018779864429382\n",
      "AUC: 0.9543700393178373\n",
      "./npz_data/5/20180323_Emx1G6_non_1\n",
      "frame number: 17998\n"
     ]
    },
    {
     "data": {
      "application/vnd.jupyter.widget-view+json": {
       "model_id": "ca431603e1074dcb9866dcf074c47d3a",
       "version_major": 2,
       "version_minor": 0
      },
      "text/plain": [
       "HBox(children=(FloatProgress(value=0.0, max=141.0), HTML(value='')))"
      ]
     },
     "metadata": {},
     "output_type": "display_data"
    },
    {
     "name": "stdout",
     "output_type": "stream",
     "text": [
      "\n",
      "Accuracy: 0.8668185353928214\n",
      "AUC: 0.713318185356081\n",
      "./npz_data/5/20180321_Emx1G6_non_1\n",
      "frame number: 17998\n"
     ]
    },
    {
     "data": {
      "application/vnd.jupyter.widget-view+json": {
       "model_id": "74ee50efd61545188073deb0fb66459a",
       "version_major": 2,
       "version_minor": 0
      },
      "text/plain": [
       "HBox(children=(FloatProgress(value=0.0, max=141.0), HTML(value='')))"
      ]
     },
     "metadata": {},
     "output_type": "display_data"
    },
    {
     "name": "stdout",
     "output_type": "stream",
     "text": [
      "\n",
      "Accuracy: 0.8128680964551617\n",
      "AUC: 0.951502505599964\n",
      "./npz_data/5/20180403_Emx1G6_non_1\n",
      "frame number: 17998\n"
     ]
    },
    {
     "data": {
      "application/vnd.jupyter.widget-view+json": {
       "model_id": "3770e0a2cfba4753ba85b2ca8f2275d2",
       "version_major": 2,
       "version_minor": 0
      },
      "text/plain": [
       "HBox(children=(FloatProgress(value=0.0, max=141.0), HTML(value='')))"
      ]
     },
     "metadata": {},
     "output_type": "display_data"
    },
    {
     "name": "stdout",
     "output_type": "stream",
     "text": [
      "\n",
      "Accuracy: 0.8139793310367819\n",
      "AUC: 0.9483907517852898\n",
      "./npz_data/5/20180413_Emx1G6_non_1\n",
      "frame number: 17998\n"
     ]
    },
    {
     "data": {
      "application/vnd.jupyter.widget-view+json": {
       "model_id": "ca6686fe991343e9b39dc67a0038a592",
       "version_major": 2,
       "version_minor": 0
      },
      "text/plain": [
       "HBox(children=(FloatProgress(value=0.0, max=141.0), HTML(value='')))"
      ]
     },
     "metadata": {},
     "output_type": "display_data"
    },
    {
     "name": "stdout",
     "output_type": "stream",
     "text": [
      "\n",
      "Accuracy: 0.8802644738304256\n",
      "AUC: 0.9588856345214494\n",
      "./npz_data/5/20180411_Emx1G6_non_1\n",
      "frame number: 17998\n"
     ]
    },
    {
     "data": {
      "application/vnd.jupyter.widget-view+json": {
       "model_id": "cfdd9b32fc2b468e862c0313badf8005",
       "version_major": 2,
       "version_minor": 0
      },
      "text/plain": [
       "HBox(children=(FloatProgress(value=0.0, max=141.0), HTML(value='')))"
      ]
     },
     "metadata": {},
     "output_type": "display_data"
    },
    {
     "name": "stdout",
     "output_type": "stream",
     "text": [
      "\n",
      "Accuracy: 0.7628069785531726\n",
      "AUC: 0.8532108914282279\n",
      "Mean Accuracy: 0.8346019928140165\n"
     ]
    }
   ],
   "source": [
    "Y_pred, Y_true = calculate_accuracy(exp_path)"
   ]
  },
  {
   "cell_type": "code",
   "execution_count": 23,
   "metadata": {},
   "outputs": [],
   "source": [
    "# Save test result\n",
    "from scipy import io\n",
    "io.savemat(f\"./result/test_result_EfficientNet{VER}_valid{VALID}_test{TEST}.mat\", {\"test_label\":Y_true, \"test_pred\":Y_pred})"
   ]
  },
  {
   "cell_type": "code",
   "execution_count": 24,
   "metadata": {},
   "outputs": [],
   "source": [
    "# Plot ROC curve\n",
    "def plot_roc(y_pred, y_test, mode):\n",
    "    fpr, tpr, thresholds = roc_curve(y_test, y_pred, pos_label=1)\n",
    "    AUC = roc_auc_score(y_test, y_pred)\n",
    "    plt.plot(fpr, tpr, label=\"AUC = {:.3f}\".format(AUC))\n",
    "    plt.title(mode + \" ROC curve\")\n",
    "    plt.xlabel(\"False Positive Rate\")\n",
    "    plt.ylabel(\"True Positive Rate\")\n",
    "    plt.legend()\n",
    "    plt.show()\n",
    "    print('AUC: {:.3f}'.format(AUC))\n",
    "    opt_thr = thresholds[np.argmax(tpr - fpr)]\n",
    "    print('Optimal threshold: {:.3f}'.format(opt_thr))"
   ]
  },
  {
   "cell_type": "code",
   "execution_count": 25,
   "metadata": {},
   "outputs": [],
   "source": [
    "test_pred = np.vstack(Y_pred)\n",
    "test_true = np.vstack(Y_true)"
   ]
  },
  {
   "cell_type": "code",
   "execution_count": 26,
   "metadata": {},
   "outputs": [
    {
     "data": {
      "image/png": "[encoded data removed]",
      "text/plain": [
       "<Figure size 432x288 with 1 Axes>"
      ]
     },
     "metadata": {
      "needs_background": "light"
     },
     "output_type": "display_data"
    },
    {
     "name": "stdout",
     "output_type": "stream",
     "text": [
      "AUC: 0.919\n",
      "Optimal threshold: 0.300\n"
     ]
    }
   ],
   "source": [
    "plot_roc(test_pred, test_true, \"TEST\")"
   ]
  },
  {
   "cell_type": "code",
   "execution_count": null,
   "metadata": {},
   "outputs": [],
   "source": []
  }
 ],
 "metadata": {
  "kernelspec": {
   "display_name": "Python 3",
   "language": "python",
   "name": "python3"
  },
  "language_info": {
   "codemirror_mode": {
    "name": "ipython",
    "version": 3
   },
   "file_extension": ".py",
   "mimetype": "text/x-python",
   "name": "python",
   "nbconvert_exporter": "python",
   "pygments_lexer": "ipython3",
   "version": "3.6.10"
  }
 },
 "nbformat": 4,
 "nbformat_minor": 2
}
