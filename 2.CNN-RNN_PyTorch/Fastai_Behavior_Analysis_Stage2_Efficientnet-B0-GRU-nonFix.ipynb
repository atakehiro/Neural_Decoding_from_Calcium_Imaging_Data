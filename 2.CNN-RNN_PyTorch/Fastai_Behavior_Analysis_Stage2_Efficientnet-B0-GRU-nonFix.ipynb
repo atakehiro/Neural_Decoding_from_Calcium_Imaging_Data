{
 "cells": [
  {
   "cell_type": "markdown",
   "metadata": {},
   "source": [
    "Copyright 2021 Takehiro Ajioka"
   ]
  },
  {
   "cell_type": "markdown",
   "metadata": {},
   "source": [
    "### Enviroment\n",
    "\n",
    "Python 3.6\n",
    "Anaconda\n",
    "pytorch==1.9.0_cuda11.1\n",
    "fastai==2.5.2\n",
    "tifffile==2020.9.3\n",
    "opencv-python==4.5.3.56\n",
    "efficientnet-pytorch==0.7.1\n",
    "tqdm==4.47.0"
   ]
  },
  {
   "cell_type": "markdown",
   "metadata": {},
   "source": [
    "# EfficientNetB0 ＋ GRU"
   ]
  },
  {
   "cell_type": "code",
   "execution_count": 1,
   "metadata": {},
   "outputs": [],
   "source": [
    "import pandas as pd\n",
    "import numpy as np\n",
    "from matplotlib import pyplot as plt"
   ]
  },
  {
   "cell_type": "code",
   "execution_count": 2,
   "metadata": {},
   "outputs": [],
   "source": [
    "RNN_Type = 'GRU'\n",
    "CNN_fix = 'nonFix' #'nonFix'\n",
    "SEQ_SIZE = 5 # input frame number [-n,n+1]"
   ]
  },
  {
   "cell_type": "code",
   "execution_count": 3,
   "metadata": {},
   "outputs": [],
   "source": [
    "# Data allocation (Mouse #)\n",
    "TRAIN = [3,4,5]\n",
    "VALID = [1]\n",
    "TEST = [2]"
   ]
  },
  {
   "cell_type": "code",
   "execution_count": 4,
   "metadata": {},
   "outputs": [],
   "source": [
    "TRAIN = f'[{TRAIN[0]}{TRAIN[1]}{TRAIN[2]}]'\n",
    "VALID = VALID[0]\n",
    "TEST = TEST[0]"
   ]
  },
  {
   "cell_type": "code",
   "execution_count": 5,
   "metadata": {},
   "outputs": [
    {
     "name": "stdout",
     "output_type": "stream",
     "text": [
      "[345]\n",
      "1\n",
      "2\n"
     ]
    }
   ],
   "source": [
    "print(TRAIN)\n",
    "print(VALID)\n",
    "print(TEST)"
   ]
  },
  {
   "cell_type": "markdown",
   "metadata": {},
   "source": [
    "# Training"
   ]
  },
  {
   "cell_type": "markdown",
   "metadata": {},
   "source": [
    "## Model"
   ]
  },
  {
   "cell_type": "code",
   "execution_count": 6,
   "metadata": {},
   "outputs": [],
   "source": [
    "import torch\n",
    "from torch import nn, optim\n",
    "import torch.nn.functional as F\n",
    "from torch.utils.data import DataLoader"
   ]
  },
  {
   "cell_type": "code",
   "execution_count": 7,
   "metadata": {},
   "outputs": [
    {
     "data": {
      "text/plain": [
       "<torch._C.Generator at 0x7f3af8f6c9d8>"
      ]
     },
     "execution_count": 7,
     "metadata": {},
     "output_type": "execute_result"
    }
   ],
   "source": [
    "# Random seed\n",
    "import os, random\n",
    "SEED = 2021\n",
    "\n",
    "def seed_everything(seed):\n",
    "    random.seed(seed)\n",
    "    os.environ['PYTHONHASHSEED'] = str(seed)\n",
    "    np.random.seed(seed)\n",
    "    torch.manual_seed(seed)\n",
    "    torch.cuda.manual_seed(seed)\n",
    "    torch.backends.cudnn.benchmark = False\n",
    "    torch.use_deterministic_algorithms = True\n",
    "    torch.backends.cudnn.deterministic = True\n",
    "\n",
    "def seed_worker(worker_id):\n",
    "    worker_seed = torch.initial_seed() % 2**32\n",
    "    np.random.seed(worker_seed)\n",
    "    random.seed(worker_seed)\n",
    "\n",
    "seed_everything(SEED)\n",
    "generator = torch.Generator()\n",
    "generator.manual_seed(SEED)"
   ]
  },
  {
   "cell_type": "code",
   "execution_count": 8,
   "metadata": {
    "scrolled": false
   },
   "outputs": [
    {
     "name": "stdout",
     "output_type": "stream",
     "text": [
      "Loaded pretrained weights for efficientnet-b0\n"
     ]
    }
   ],
   "source": [
    "VER = 'b0'\n",
    "from efficientnet_pytorch import EfficientNet\n",
    "cnn = EfficientNet.from_pretrained('efficientnet-'+VER, num_classes=1)"
   ]
  },
  {
   "cell_type": "code",
   "execution_count": 9,
   "metadata": {},
   "outputs": [
    {
     "data": {
      "text/plain": [
       "<All keys matched successfully>"
      ]
     },
     "execution_count": 9,
     "metadata": {},
     "output_type": "execute_result"
    }
   ],
   "source": [
    "cnn.load_state_dict(torch.load(f'./stage1_model/model_EfficientNet{VER}_valid{VALID}_test{TEST}.pth'))"
   ]
  },
  {
   "cell_type": "code",
   "execution_count": 10,
   "metadata": {},
   "outputs": [],
   "source": [
    "FEATURE_SIZE = 1280 # efficient-net b0の時は1280\n",
    "RNN_UNITS = 128\n",
    "\n",
    "if RNN_Type == 'RNN':\n",
    "    rnn = nn.RNN(FEATURE_SIZE, RNN_UNITS, num_layers=2, dropout=0.2, batch_first=True)\n",
    "elif RNN_Type == 'LSTM':\n",
    "    rnn = nn.LSTM(FEATURE_SIZE, RNN_UNITS, num_layers=2, dropout=0.2, batch_first=True)\n",
    "elif RNN_Type == 'GRU':\n",
    "    rnn = nn.GRU(FEATURE_SIZE, RNN_UNITS, num_layers=2, dropout=0.2, batch_first=True)"
   ]
  },
  {
   "cell_type": "code",
   "execution_count": 11,
   "metadata": {},
   "outputs": [],
   "source": [
    "# Model\n",
    "class CNN_RNN(nn.Module):\n",
    "    def __init__(self,cnn):\n",
    "        super(CNN_RNN, self).__init__()\n",
    "        self.cnn = cnn\n",
    "        self.avgpool = torch.nn.AdaptiveAvgPool2d(1)\n",
    "        self.rnn = rnn\n",
    "        self.linear_out = nn.Linear(RNN_UNITS, 1)\n",
    "\n",
    "    def forward(self, x):\n",
    "        x = x.reshape(-1, 3, x.shape[3], x.shape[4]) # (batch, channel, size1, size2)\n",
    "        x = self.cnn.extract_features(x)\n",
    "        x = self.avgpool(x)\n",
    "        x = x.reshape(-1, 2*SEQ_SIZE+1, FEATURE_SIZE) # (batch, seq_len, input_size)\n",
    "        self.rnn.flatten_parameters()\n",
    "        o_rnn, _ = self.rnn(x)\n",
    "        output = self.linear_out(o_rnn[:,-1,:])\n",
    "        return output"
   ]
  },
  {
   "cell_type": "code",
   "execution_count": 12,
   "metadata": {},
   "outputs": [],
   "source": [
    "model = CNN_RNN(cnn).cuda()"
   ]
  },
  {
   "cell_type": "code",
   "execution_count": 13,
   "metadata": {},
   "outputs": [
    {
     "name": "stdout",
     "output_type": "stream",
     "text": [
      "Batch size: 64\n"
     ]
    }
   ],
   "source": [
    "# Fix the parameters of CNN\n",
    "if CNN_fix == 'Fix':\n",
    "    BATCH_SIZE = 256\n",
    "    print(f'Batch size: {BATCH_SIZE}')\n",
    "    for param in cnn.parameters():\n",
    "        param.requires_grad = False\n",
    "elif CNN_fix == 'nonFix':\n",
    "    BATCH_SIZE = 64\n",
    "    print(f'Batch size: {BATCH_SIZE}')"
   ]
  },
  {
   "cell_type": "code",
   "execution_count": 14,
   "metadata": {},
   "outputs": [
    {
     "name": "stdout",
     "output_type": "stream",
     "text": [
      "4649470\n"
     ]
    }
   ],
   "source": [
    "# Count number of parameters\n",
    "params = 0\n",
    "for p in model.parameters():\n",
    "    if p.requires_grad:\n",
    "        params += p.numel()\n",
    "print(params) "
   ]
  },
  {
   "cell_type": "markdown",
   "metadata": {},
   "source": [
    "## Learning"
   ]
  },
  {
   "cell_type": "code",
   "execution_count": 15,
   "metadata": {},
   "outputs": [
    {
     "data": {
      "text/html": [
       "<div>\n",
       "<style scoped>\n",
       "    .dataframe tbody tr th:only-of-type {\n",
       "        vertical-align: middle;\n",
       "    }\n",
       "\n",
       "    .dataframe tbody tr th {\n",
       "        vertical-align: top;\n",
       "    }\n",
       "\n",
       "    .dataframe thead th {\n",
       "        text-align: right;\n",
       "    }\n",
       "</style>\n",
       "<table border=\"1\" class=\"dataframe\">\n",
       "  <thead>\n",
       "    <tr style=\"text-align: right;\">\n",
       "      <th></th>\n",
       "      <th>Data_ID</th>\n",
       "      <th>Mouse_#</th>\n",
       "    </tr>\n",
       "  </thead>\n",
       "  <tbody>\n",
       "    <tr>\n",
       "      <th>0</th>\n",
       "      <td>20180125_Emx1G6_LR_1</td>\n",
       "      <td>1</td>\n",
       "    </tr>\n",
       "    <tr>\n",
       "      <th>1</th>\n",
       "      <td>20180125_Emx1G6_R_1</td>\n",
       "      <td>3</td>\n",
       "    </tr>\n",
       "    <tr>\n",
       "      <th>2</th>\n",
       "      <td>20180125_Emx1G6_non_1</td>\n",
       "      <td>2</td>\n",
       "    </tr>\n",
       "    <tr>\n",
       "      <th>3</th>\n",
       "      <td>20180126_Emx1G6_LR_1</td>\n",
       "      <td>1</td>\n",
       "    </tr>\n",
       "    <tr>\n",
       "      <th>4</th>\n",
       "      <td>20180126_Emx1G6_R_1</td>\n",
       "      <td>3</td>\n",
       "    </tr>\n",
       "    <tr>\n",
       "      <th>...</th>\n",
       "      <td>...</td>\n",
       "      <td>...</td>\n",
       "    </tr>\n",
       "    <tr>\n",
       "      <th>59</th>\n",
       "      <td>20180411_Emx1G6_non_1</td>\n",
       "      <td>5</td>\n",
       "    </tr>\n",
       "    <tr>\n",
       "      <th>60</th>\n",
       "      <td>20180412_Emx1G6_L_1</td>\n",
       "      <td>4</td>\n",
       "    </tr>\n",
       "    <tr>\n",
       "      <th>61</th>\n",
       "      <td>20180412_Emx1G6_non_1</td>\n",
       "      <td>5</td>\n",
       "    </tr>\n",
       "    <tr>\n",
       "      <th>62</th>\n",
       "      <td>20180413_Emx1G6_L_1</td>\n",
       "      <td>4</td>\n",
       "    </tr>\n",
       "    <tr>\n",
       "      <th>63</th>\n",
       "      <td>20180413_Emx1G6_non_1</td>\n",
       "      <td>5</td>\n",
       "    </tr>\n",
       "  </tbody>\n",
       "</table>\n",
       "<p>64 rows × 2 columns</p>\n",
       "</div>"
      ],
      "text/plain": [
       "                  Data_ID  Mouse_#\n",
       "0    20180125_Emx1G6_LR_1        1\n",
       "1     20180125_Emx1G6_R_1        3\n",
       "2   20180125_Emx1G6_non_1        2\n",
       "3    20180126_Emx1G6_LR_1        1\n",
       "4     20180126_Emx1G6_R_1        3\n",
       "..                    ...      ...\n",
       "59  20180411_Emx1G6_non_1        5\n",
       "60    20180412_Emx1G6_L_1        4\n",
       "61  20180412_Emx1G6_non_1        5\n",
       "62    20180413_Emx1G6_L_1        4\n",
       "63  20180413_Emx1G6_non_1        5\n",
       "\n",
       "[64 rows x 2 columns]"
      ]
     },
     "execution_count": 15,
     "metadata": {},
     "output_type": "execute_result"
    }
   ],
   "source": [
    "df = pd.read_csv('./data_64_5mice.csv')\n",
    "df"
   ]
  },
  {
   "cell_type": "code",
   "execution_count": 16,
   "metadata": {},
   "outputs": [],
   "source": [
    "# parameter fof normalizing\n",
    "mean_dict = {}\n",
    "std_dict = {}\n",
    "save_path = './mean_and_std/'\n",
    "\n",
    "for i in df['Data_ID']:\n",
    "    m = np.load(save_path + i + '_mean.npy')\n",
    "    s = np.load(save_path + i + '_std.npy')\n",
    "    mean_dict[i] = m\n",
    "    std_dict[i] = s"
   ]
  },
  {
   "cell_type": "code",
   "execution_count": 17,
   "metadata": {},
   "outputs": [],
   "source": [
    "import glob\n",
    "import re"
   ]
  },
  {
   "cell_type": "code",
   "execution_count": 18,
   "metadata": {},
   "outputs": [],
   "source": [
    "# exclude frame number\n",
    "def calc_exc_num(i):\n",
    "    f_list = glob.glob(i + '*.npz')\n",
    "    L = len(f_list)\n",
    "    print(f'frame number: {L}')\n",
    "    exc_num = list(range(SEQ_SIZE)) + list(range(L-SEQ_SIZE,L))\n",
    "    return exc_num"
   ]
  },
  {
   "cell_type": "code",
   "execution_count": 19,
   "metadata": {},
   "outputs": [],
   "source": [
    "# input file list\n",
    "def input_list(MODE):\n",
    "    folder = glob.glob(f'./npz_data/{MODE}/*_0.npz')\n",
    "    exp_path = [folder[i].rstrip('_0.npz') for i in range(len(folder))]\n",
    "    exclude_list = []\n",
    "    for i in exp_path:\n",
    "        exc_num = calc_exc_num(i)\n",
    "        for n in exc_num:\n",
    "            npz_path = i + '_' + str(n) + '.npz'\n",
    "            exclude_list.append(npz_path)\n",
    "    f_list = glob.glob(f'./npz_data/{MODE}/*.npz')\n",
    "    input_list = [i for i in f_list if i not in exclude_list]\n",
    "    return input_list"
   ]
  },
  {
   "cell_type": "code",
   "execution_count": 20,
   "metadata": {},
   "outputs": [],
   "source": [
    "# Dataset\n",
    "class ImageLoadDataset:\n",
    "    def __init__(self, filelist):\n",
    "        self.files = filelist\n",
    "        \n",
    "    def __len__(self):\n",
    "        return (len(self.files))\n",
    "    \n",
    "    def __getitem__(self, idx):\n",
    "        npz_path = self.files[idx]\n",
    "        xy_data = np.load(npz_path)\n",
    "        experiment_name = npz_path[len('./npz_data/1/'):-len(re.search('_\\d+.npz',npz_path).group())]\n",
    "        mean = mean_dict[experiment_name]\n",
    "        std = std_dict[experiment_name]\n",
    "        ax = xy_data['image'].shape\n",
    "        num = re.search('_\\d+.npz', npz_path).group().lstrip('_').rstrip('.npz') # frame number\n",
    "        X = np.zeros([2*SEQ_SIZE+1, ax[0], ax[1], ax[2]])\n",
    "        for idx, i in enumerate(range(int(num) - SEQ_SIZE, int(num) + SEQ_SIZE + 1)):\n",
    "            length = len(num) + len('_.npz')\n",
    "            path = npz_path[:-length] + '_' + str(i) + '.npz'\n",
    "            xy_data2 = np.load(path)\n",
    "            X[idx,:,:,:] = (xy_data2['image'] - mean) / std # Normalize\n",
    "        x = torch.tensor(X, dtype=torch.float)\n",
    "        y = torch.tensor(xy_data['label'], dtype=torch.float)      \n",
    "        return x, y"
   ]
  },
  {
   "cell_type": "code",
   "execution_count": 21,
   "metadata": {},
   "outputs": [
    {
     "name": "stdout",
     "output_type": "stream",
     "text": [
      "frame number: 17998\n",
      "frame number: 17998\n",
      "frame number: 17998\n",
      "frame number: 17998\n",
      "frame number: 17998\n",
      "frame number: 17998\n",
      "frame number: 17998\n",
      "frame number: 17998\n",
      "frame number: 17998\n",
      "frame number: 17998\n",
      "frame number: 17998\n",
      "frame number: 17998\n",
      "frame number: 17998\n",
      "frame number: 17998\n",
      "frame number: 17998\n",
      "frame number: 17998\n",
      "frame number: 17998\n",
      "frame number: 17998\n",
      "frame number: 17998\n",
      "frame number: 17998\n",
      "frame number: 17998\n",
      "frame number: 17998\n",
      "frame number: 17998\n",
      "frame number: 17998\n",
      "frame number: 17998\n",
      "frame number: 17998\n",
      "frame number: 17998\n",
      "frame number: 17998\n",
      "frame number: 17998\n",
      "frame number: 17998\n",
      "frame number: 17998\n",
      "frame number: 17998\n",
      "frame number: 17998\n",
      "frame number: 17998\n",
      "frame number: 17998\n",
      "frame number: 17998\n",
      "frame number: 17998\n",
      "frame number: 17998\n",
      "frame number: 17998\n",
      "frame number: 17998\n",
      "frame number: 17998\n",
      "frame number: 17998\n",
      "frame number: 17998\n",
      "frame number: 17998\n",
      "frame number: 17998\n",
      "frame number: 17998\n",
      "frame number: 17998\n",
      "frame number: 17998\n",
      "frame number: 17998\n",
      "frame number: 17998\n",
      "frame number: 17998\n",
      "frame number: 17998\n"
     ]
    }
   ],
   "source": [
    "# Dataset setting\n",
    "from fastai.data.core import DataLoaders\n",
    "ds_train = ImageLoadDataset(input_list(TRAIN))\n",
    "ds_valid = ImageLoadDataset(input_list(VALID))\n",
    "dls = DataLoaders.from_dsets(ds_train, ds_valid, bs=BATCH_SIZE, shuffle=True,\n",
    "        num_workers=10, pin_memory=True, worker_init_fn=seed_worker, generator=generator).cuda()"
   ]
  },
  {
   "cell_type": "code",
   "execution_count": 22,
   "metadata": {},
   "outputs": [],
   "source": [
    "# Learn setting\n",
    "from fastai.vision.all import Learner, ShowGraphCallback, SaveModelCallback\n",
    "loss = nn.BCEWithLogitsLoss()\n",
    "learn = Learner(dls, model, loss_func=loss).to_fp16() # Mixed precision\n",
    "callbacks = [SaveModelCallback(monitor='valid_loss', comp=np.less), ShowGraphCallback()]"
   ]
  },
  {
   "cell_type": "code",
   "execution_count": 23,
   "metadata": {},
   "outputs": [
    {
     "data": {
      "text/html": [
       "<table border=\"1\" class=\"dataframe\">\n",
       "  <thead>\n",
       "    <tr style=\"text-align: left;\">\n",
       "      <th>epoch</th>\n",
       "      <th>train_loss</th>\n",
       "      <th>valid_loss</th>\n",
       "      <th>time</th>\n",
       "    </tr>\n",
       "  </thead>\n",
       "  <tbody>\n",
       "    <tr>\n",
       "      <td>0</td>\n",
       "      <td>0.098566</td>\n",
       "      <td>0.431049</td>\n",
       "      <td>1:09:20</td>\n",
       "    </tr>\n",
       "    <tr>\n",
       "      <td>1</td>\n",
       "      <td>0.058709</td>\n",
       "      <td>0.656831</td>\n",
       "      <td>1:09:08</td>\n",
       "    </tr>\n",
       "    <tr>\n",
       "      <td>2</td>\n",
       "      <td>0.034378</td>\n",
       "      <td>0.763120</td>\n",
       "      <td>1:08:58</td>\n",
       "    </tr>\n",
       "  </tbody>\n",
       "</table>"
      ],
      "text/plain": [
       "<IPython.core.display.HTML object>"
      ]
     },
     "metadata": {},
     "output_type": "display_data"
    },
    {
     "name": "stdout",
     "output_type": "stream",
     "text": [
      "Better model found at epoch 0 with valid_loss value: 0.43104881048202515.\n"
     ]
    },
    {
     "data": {
      "image/png": "[encoded data removed]",
      "text/plain": [
       "<Figure size 432x288 with 1 Axes>"
      ]
     },
     "metadata": {},
     "output_type": "display_data"
    }
   ],
   "source": [
    "# Training\n",
    "Epoch = 3\n",
    "learn.fit_one_cycle(Epoch, lr_max=1e-3, cbs=callbacks)"
   ]
  },
  {
   "cell_type": "code",
   "execution_count": 24,
   "metadata": {},
   "outputs": [],
   "source": [
    "# Save model\n",
    "torch.save(learn.model.state_dict(),f'./stage2_model/model_EfficientNet{VER}_{RNN_Type}_valid{VALID}_test{TEST}.pth')"
   ]
  },
  {
   "cell_type": "markdown",
   "metadata": {},
   "source": [
    "# Inference"
   ]
  },
  {
   "cell_type": "code",
   "execution_count": 25,
   "metadata": {},
   "outputs": [
    {
     "data": {
      "text/plain": [
       "<All keys matched successfully>"
      ]
     },
     "execution_count": 25,
     "metadata": {},
     "output_type": "execute_result"
    }
   ],
   "source": [
    "# Load model\n",
    "learn.model.load_state_dict(torch.load(f'./stage2_model/model_EfficientNet{VER}_{RNN_Type}_valid{VALID}_test{TEST}.pth'))"
   ]
  },
  {
   "cell_type": "code",
   "execution_count": 26,
   "metadata": {},
   "outputs": [],
   "source": [
    "BATCH_SIZE = 64"
   ]
  },
  {
   "cell_type": "code",
   "execution_count": 27,
   "metadata": {},
   "outputs": [],
   "source": [
    "from tqdm.auto import tqdm\n",
    "import gc\n",
    "\n",
    "def inference_1_image(file_path):\n",
    "    Y_pred = np.zeros([len(file_path), 1])\n",
    "    Y_true = np.zeros([len(file_path), 1])\n",
    "    ds_i = ImageLoadDataset(file_path)\n",
    "    infe = DataLoader(ds_i, batch_size=BATCH_SIZE, shuffle=False, num_workers=10, pin_memory=True)\n",
    "    tqdm_loader = tqdm(infe)\n",
    "    for idx, (imgs,labels) in enumerate(tqdm_loader):\n",
    "        bs = labels.shape[0]\n",
    "        Y_pred[idx*BATCH_SIZE:idx*BATCH_SIZE+bs] = torch.sigmoid(learn.model(imgs.cuda())).cpu().detach().numpy()\n",
    "        Y_true[idx*BATCH_SIZE:idx*BATCH_SIZE+bs] = labels\n",
    "    del ds_i, infe, tqdm_loader\n",
    "    gc.collect();\n",
    "    return Y_pred, Y_true"
   ]
  },
  {
   "cell_type": "code",
   "execution_count": 28,
   "metadata": {},
   "outputs": [
    {
     "name": "stdout",
     "output_type": "stream",
     "text": [
      "['./npz_data/2/20180215_Emx1G6_non_1', './npz_data/2/20180216_Emx1G6_non_1', './npz_data/2/20180213_Emx1G6_non_1', './npz_data/2/20180209_Emx1G6_non_1', './npz_data/2/20180126_Emx1G6_non_1', './npz_data/2/20180131_Emx1G6_non_1', './npz_data/2/20180125_Emx1G6_non_1', './npz_data/2/20180205_Emx1G6_non_1', './npz_data/2/20180201_Emx1G6_non_1', './npz_data/2/20180129_Emx1G6_non_1', './npz_data/2/20180214_Emx1G6_non_1', './npz_data/2/20180130_Emx1G6_non_1']\n"
     ]
    }
   ],
   "source": [
    "test_folder = glob.glob(f'./npz_data/{TEST}/*_0.npz')\n",
    "exp_path = [test_folder[i].rstrip('_0.npz') for i in range(len(test_folder))]\n",
    "print(exp_path)"
   ]
  },
  {
   "cell_type": "code",
   "execution_count": 29,
   "metadata": {},
   "outputs": [],
   "source": [
    "from sklearn.metrics import roc_curve\n",
    "from sklearn.metrics import auc, roc_auc_score\n",
    "\n",
    "def calculate_accuracy(exp_paths):\n",
    "    Y_pred_all = []\n",
    "    Y_true_all = []\n",
    "    acc = np.zeros(len(exp_paths))\n",
    "    for i, exp_path in enumerate(exp_paths):\n",
    "        print(exp_path)\n",
    "        files = glob.glob(exp_path + '*.npz')\n",
    "        print(f'frame number: {len(files)}')\n",
    "        Y_pred, Y_true = inference_1_image([exp_path + f'_{i}.npz' for i in range(SEQ_SIZE, len(files) - SEQ_SIZE)])\n",
    "        Y_pred_all.append(Y_pred)\n",
    "        Y_true_all.append(Y_true)\n",
    "        output = Y_pred > 0.5\n",
    "        accuracy = (output == Y_true).mean()\n",
    "        print('Accuracy: {}'.format(accuracy))\n",
    "        AUC = roc_auc_score(Y_true, Y_pred)\n",
    "        print(f'AUC: {AUC}')\n",
    "        acc[i] = accuracy\n",
    "    print('Mean Accuracy: {}'.format(acc.mean()))\n",
    "    return Y_pred_all, Y_true_all"
   ]
  },
  {
   "cell_type": "code",
   "execution_count": 30,
   "metadata": {},
   "outputs": [
    {
     "name": "stdout",
     "output_type": "stream",
     "text": [
      "./npz_data/2/20180215_Emx1G6_non_1\n",
      "frame number: 17998\n"
     ]
    },
    {
     "data": {
      "application/vnd.jupyter.widget-view+json": {
       "model_id": "e7d6df623c8a4e5783c62dff8fcb3526",
       "version_major": 2,
       "version_minor": 0
      },
      "text/plain": [
       "HBox(children=(FloatProgress(value=0.0, max=282.0), HTML(value='')))"
      ]
     },
     "metadata": {},
     "output_type": "display_data"
    },
    {
     "name": "stdout",
     "output_type": "stream",
     "text": [
      "\n",
      "Accuracy: 0.7800756059595286\n",
      "AUC: 0.9680216465343009\n",
      "./npz_data/2/20180216_Emx1G6_non_1\n",
      "frame number: 17998\n"
     ]
    },
    {
     "data": {
      "application/vnd.jupyter.widget-view+json": {
       "model_id": "05b29dd9007247b0ad145cf9d8933d90",
       "version_major": 2,
       "version_minor": 0
      },
      "text/plain": [
       "HBox(children=(FloatProgress(value=0.0, max=282.0), HTML(value='')))"
      ]
     },
     "metadata": {},
     "output_type": "display_data"
    },
    {
     "name": "stdout",
     "output_type": "stream",
     "text": [
      "\n",
      "Accuracy: 0.731320880587058\n",
      "AUC: 0.9414612434829789\n",
      "./npz_data/2/20180213_Emx1G6_non_1\n",
      "frame number: 17998\n"
     ]
    },
    {
     "data": {
      "application/vnd.jupyter.widget-view+json": {
       "model_id": "5691e76cb3da4d289f845389689b35b5",
       "version_major": 2,
       "version_minor": 0
      },
      "text/plain": [
       "HBox(children=(FloatProgress(value=0.0, max=282.0), HTML(value='')))"
      ]
     },
     "metadata": {},
     "output_type": "display_data"
    },
    {
     "name": "stdout",
     "output_type": "stream",
     "text": [
      "\n",
      "Accuracy: 0.9467978652434956\n",
      "AUC: 0.8322223750617093\n",
      "./npz_data/2/20180209_Emx1G6_non_1\n",
      "frame number: 17998\n"
     ]
    },
    {
     "data": {
      "application/vnd.jupyter.widget-view+json": {
       "model_id": "e805a8bcf33e4b92873c1c3db40caa44",
       "version_major": 2,
       "version_minor": 0
      },
      "text/plain": [
       "HBox(children=(FloatProgress(value=0.0, max=282.0), HTML(value='')))"
      ]
     },
     "metadata": {},
     "output_type": "display_data"
    },
    {
     "name": "stdout",
     "output_type": "stream",
     "text": [
      "\n",
      "Accuracy: 0.8813097620635979\n",
      "AUC: 0.9552253554616136\n",
      "./npz_data/2/20180126_Emx1G6_non_1\n",
      "frame number: 17998\n"
     ]
    },
    {
     "data": {
      "application/vnd.jupyter.widget-view+json": {
       "model_id": "f95047a98069472da68ce58766579ad5",
       "version_major": 2,
       "version_minor": 0
      },
      "text/plain": [
       "HBox(children=(FloatProgress(value=0.0, max=282.0), HTML(value='')))"
      ]
     },
     "metadata": {},
     "output_type": "display_data"
    },
    {
     "name": "stdout",
     "output_type": "stream",
     "text": [
      "\n",
      "Accuracy: 0.7172559484100511\n",
      "AUC: 0.917935055618509\n",
      "./npz_data/2/20180131_Emx1G6_non_1\n",
      "frame number: 17998\n"
     ]
    },
    {
     "data": {
      "application/vnd.jupyter.widget-view+json": {
       "model_id": "97cb1eb523854bbd879ca226c762558e",
       "version_major": 2,
       "version_minor": 0
      },
      "text/plain": [
       "HBox(children=(FloatProgress(value=0.0, max=282.0), HTML(value='')))"
      ]
     },
     "metadata": {},
     "output_type": "display_data"
    },
    {
     "name": "stdout",
     "output_type": "stream",
     "text": [
      "\n",
      "Accuracy: 0.9441294196130754\n",
      "AUC: 0.9212122752163417\n",
      "./npz_data/2/20180125_Emx1G6_non_1\n",
      "frame number: 17998\n"
     ]
    },
    {
     "data": {
      "application/vnd.jupyter.widget-view+json": {
       "model_id": "b3f3f1acbe2f4bc18f13805951d790b9",
       "version_major": 2,
       "version_minor": 0
      },
      "text/plain": [
       "HBox(children=(FloatProgress(value=0.0, max=282.0), HTML(value='')))"
      ]
     },
     "metadata": {},
     "output_type": "display_data"
    },
    {
     "name": "stdout",
     "output_type": "stream",
     "text": [
      "\n",
      "Accuracy: 0.8383366688903714\n",
      "AUC: 0.9303665232374505\n",
      "./npz_data/2/20180205_Emx1G6_non_1\n",
      "frame number: 17998\n"
     ]
    },
    {
     "data": {
      "application/vnd.jupyter.widget-view+json": {
       "model_id": "d40959a19e0d4eadbcb85fa46ffcefa3",
       "version_major": 2,
       "version_minor": 0
      },
      "text/plain": [
       "HBox(children=(FloatProgress(value=0.0, max=282.0), HTML(value='')))"
      ]
     },
     "metadata": {},
     "output_type": "display_data"
    },
    {
     "name": "stdout",
     "output_type": "stream",
     "text": [
      "\n",
      "Accuracy: 0.9347898599066043\n",
      "AUC: 0.9733009149854338\n",
      "./npz_data/2/20180201_Emx1G6_non_1\n",
      "frame number: 17998\n"
     ]
    },
    {
     "data": {
      "application/vnd.jupyter.widget-view+json": {
       "model_id": "df46cb2f374b49e0b50dfd0620913e7e",
       "version_major": 2,
       "version_minor": 0
      },
      "text/plain": [
       "HBox(children=(FloatProgress(value=0.0, max=282.0), HTML(value='')))"
      ]
     },
     "metadata": {},
     "output_type": "display_data"
    },
    {
     "name": "stdout",
     "output_type": "stream",
     "text": [
      "\n",
      "Accuracy: 0.9485212363798088\n",
      "AUC: 0.9797686718147085\n",
      "./npz_data/2/20180129_Emx1G6_non_1\n",
      "frame number: 17998\n"
     ]
    },
    {
     "data": {
      "application/vnd.jupyter.widget-view+json": {
       "model_id": "6dbec38bcebd4028bb9f4b939eb6f347",
       "version_major": 2,
       "version_minor": 0
      },
      "text/plain": [
       "HBox(children=(FloatProgress(value=0.0, max=282.0), HTML(value='')))"
      ]
     },
     "metadata": {},
     "output_type": "display_data"
    },
    {
     "name": "stdout",
     "output_type": "stream",
     "text": [
      "\n",
      "Accuracy: 0.7378252168112075\n",
      "AUC: 0.9287418819293508\n",
      "./npz_data/2/20180214_Emx1G6_non_1\n",
      "frame number: 17998\n"
     ]
    },
    {
     "data": {
      "application/vnd.jupyter.widget-view+json": {
       "model_id": "1daf7d48dae54b5c9e8b3573dd0e0115",
       "version_major": 2,
       "version_minor": 0
      },
      "text/plain": [
       "HBox(children=(FloatProgress(value=0.0, max=282.0), HTML(value='')))"
      ]
     },
     "metadata": {},
     "output_type": "display_data"
    },
    {
     "name": "stdout",
     "output_type": "stream",
     "text": [
      "\n",
      "Accuracy: 0.9429063820324661\n",
      "AUC: 0.9618402389288717\n",
      "./npz_data/2/20180130_Emx1G6_non_1\n",
      "frame number: 17998\n"
     ]
    },
    {
     "data": {
      "application/vnd.jupyter.widget-view+json": {
       "model_id": "4bd9352e33ad4be28b225e5a3e3f3213",
       "version_major": 2,
       "version_minor": 0
      },
      "text/plain": [
       "HBox(children=(FloatProgress(value=0.0, max=282.0), HTML(value='')))"
      ]
     },
     "metadata": {},
     "output_type": "display_data"
    },
    {
     "name": "stdout",
     "output_type": "stream",
     "text": [
      "\n",
      "Accuracy: 0.9088837002446075\n",
      "AUC: 0.9134535202312545\n",
      "Mean Accuracy: 0.8593460455118228\n"
     ]
    }
   ],
   "source": [
    "Y_pred, Y_true = calculate_accuracy(exp_path)"
   ]
  },
  {
   "cell_type": "code",
   "execution_count": 31,
   "metadata": {},
   "outputs": [],
   "source": [
    "# Save test result\n",
    "from scipy import io\n",
    "io.savemat(f\"./result/test_result_EfficientNet{VER}_{RNN_Type}_valid{VALID}_test{TEST}.mat\", {\"test_label\":Y_true, \"test_pred\":Y_pred})"
   ]
  },
  {
   "cell_type": "code",
   "execution_count": 32,
   "metadata": {},
   "outputs": [],
   "source": [
    "# Plot ROC curve\n",
    "def plot_roc(y_pred, y_test, mode):\n",
    "    fpr, tpr, thresholds = roc_curve(y_test, y_pred, pos_label=1)\n",
    "    AUC = roc_auc_score(y_test, y_pred)\n",
    "    plt.plot(fpr, tpr, label=\"AUC = {:.3f}\".format(AUC))\n",
    "    plt.title(mode + \" ROC curve\")\n",
    "    plt.xlabel(\"False Positive Rate\")\n",
    "    plt.ylabel(\"True Positive Rate\")\n",
    "    plt.legend()\n",
    "    plt.show()\n",
    "    print('AUC: {:.3f}'.format(AUC))\n",
    "    opt_thr = thresholds[np.argmax(tpr - fpr)]\n",
    "    print('Optimal threshold: {:.3f}'.format(opt_thr))"
   ]
  },
  {
   "cell_type": "code",
   "execution_count": 33,
   "metadata": {},
   "outputs": [],
   "source": [
    "test_pred = np.vstack(Y_pred)\n",
    "test_true = np.vstack(Y_true)"
   ]
  },
  {
   "cell_type": "code",
   "execution_count": 34,
   "metadata": {},
   "outputs": [
    {
     "data": {
      "image/png": "[encoded data removed]",
      "text/plain": [
       "<Figure size 432x288 with 1 Axes>"
      ]
     },
     "metadata": {
      "needs_background": "light"
     },
     "output_type": "display_data"
    },
    {
     "name": "stdout",
     "output_type": "stream",
     "text": [
      "AUC: 0.939\n",
      "Optimal threshold: 0.925\n"
     ]
    }
   ],
   "source": [
    "plot_roc(test_pred, test_true, \"TEST\")"
   ]
  },
  {
   "cell_type": "code",
   "execution_count": null,
   "metadata": {},
   "outputs": [],
   "source": []
  }
 ],
 "metadata": {
  "kernelspec": {
   "display_name": "Python 3",
   "language": "python",
   "name": "python3"
  },
  "language_info": {
   "codemirror_mode": {
    "name": "ipython",
    "version": 3
   },
   "file_extension": ".py",
   "mimetype": "text/x-python",
   "name": "python",
   "nbconvert_exporter": "python",
   "pygments_lexer": "ipython3",
   "version": "3.6.10"
  }
 },
 "nbformat": 4,
 "nbformat_minor": 2
}
