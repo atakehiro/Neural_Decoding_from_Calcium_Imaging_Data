{
 "cells": [
  {
   "cell_type": "markdown",
   "metadata": {},
   "source": [
    "Copyright 2021 Takehiro Ajioka"
   ]
  },
  {
   "cell_type": "markdown",
   "metadata": {},
   "source": [
    "### Enviroment\n",
    "\n",
    "Python 3.6\n",
    "Anaconda\n",
    "pytorch==1.9.0_cuda11.1\n",
    "fastai==2.5.2\n",
    "tifffile==2020.9.3\n",
    "opencv-python==4.5.3.56\n",
    "efficientnet-pytorch==0.7.1\n",
    "tqdm==4.47.0"
   ]
  },
  {
   "cell_type": "code",
   "execution_count": 1,
   "metadata": {},
   "outputs": [],
   "source": [
    "import pandas as pd\n",
    "import numpy as np\n",
    "from matplotlib import pyplot as plt"
   ]
  },
  {
   "cell_type": "code",
   "execution_count": 2,
   "metadata": {},
   "outputs": [
    {
     "data": {
      "text/html": [
       "<div>\n",
       "<style scoped>\n",
       "    .dataframe tbody tr th:only-of-type {\n",
       "        vertical-align: middle;\n",
       "    }\n",
       "\n",
       "    .dataframe tbody tr th {\n",
       "        vertical-align: top;\n",
       "    }\n",
       "\n",
       "    .dataframe thead th {\n",
       "        text-align: right;\n",
       "    }\n",
       "</style>\n",
       "<table border=\"1\" class=\"dataframe\">\n",
       "  <thead>\n",
       "    <tr style=\"text-align: right;\">\n",
       "      <th></th>\n",
       "      <th>Data_ID</th>\n",
       "      <th>Mouse_#</th>\n",
       "    </tr>\n",
       "  </thead>\n",
       "  <tbody>\n",
       "    <tr>\n",
       "      <th>0</th>\n",
       "      <td>20180125_Emx1G6_LR_1</td>\n",
       "      <td>1</td>\n",
       "    </tr>\n",
       "    <tr>\n",
       "      <th>1</th>\n",
       "      <td>20180125_Emx1G6_R_1</td>\n",
       "      <td>3</td>\n",
       "    </tr>\n",
       "    <tr>\n",
       "      <th>2</th>\n",
       "      <td>20180125_Emx1G6_non_1</td>\n",
       "      <td>2</td>\n",
       "    </tr>\n",
       "    <tr>\n",
       "      <th>3</th>\n",
       "      <td>20180126_Emx1G6_LR_1</td>\n",
       "      <td>1</td>\n",
       "    </tr>\n",
       "    <tr>\n",
       "      <th>4</th>\n",
       "      <td>20180126_Emx1G6_R_1</td>\n",
       "      <td>3</td>\n",
       "    </tr>\n",
       "    <tr>\n",
       "      <th>...</th>\n",
       "      <td>...</td>\n",
       "      <td>...</td>\n",
       "    </tr>\n",
       "    <tr>\n",
       "      <th>59</th>\n",
       "      <td>20180411_Emx1G6_non_1</td>\n",
       "      <td>5</td>\n",
       "    </tr>\n",
       "    <tr>\n",
       "      <th>60</th>\n",
       "      <td>20180412_Emx1G6_L_1</td>\n",
       "      <td>4</td>\n",
       "    </tr>\n",
       "    <tr>\n",
       "      <th>61</th>\n",
       "      <td>20180412_Emx1G6_non_1</td>\n",
       "      <td>5</td>\n",
       "    </tr>\n",
       "    <tr>\n",
       "      <th>62</th>\n",
       "      <td>20180413_Emx1G6_L_1</td>\n",
       "      <td>4</td>\n",
       "    </tr>\n",
       "    <tr>\n",
       "      <th>63</th>\n",
       "      <td>20180413_Emx1G6_non_1</td>\n",
       "      <td>5</td>\n",
       "    </tr>\n",
       "  </tbody>\n",
       "</table>\n",
       "<p>64 rows × 2 columns</p>\n",
       "</div>"
      ],
      "text/plain": [
       "                  Data_ID  Mouse_#\n",
       "0    20180125_Emx1G6_LR_1        1\n",
       "1     20180125_Emx1G6_R_1        3\n",
       "2   20180125_Emx1G6_non_1        2\n",
       "3    20180126_Emx1G6_LR_1        1\n",
       "4     20180126_Emx1G6_R_1        3\n",
       "..                    ...      ...\n",
       "59  20180411_Emx1G6_non_1        5\n",
       "60    20180412_Emx1G6_L_1        4\n",
       "61  20180412_Emx1G6_non_1        5\n",
       "62    20180413_Emx1G6_L_1        4\n",
       "63  20180413_Emx1G6_non_1        5\n",
       "\n",
       "[64 rows x 2 columns]"
      ]
     },
     "execution_count": 2,
     "metadata": {},
     "output_type": "execute_result"
    }
   ],
   "source": [
    "df = pd.read_csv('./data_64_5mice.csv')\n",
    "df"
   ]
  },
  {
   "cell_type": "code",
   "execution_count": 3,
   "metadata": {},
   "outputs": [],
   "source": [
    "def get_filename(mouse_No):\n",
    "    filename = np.empty(0)\n",
    "    for i in mouse_No:\n",
    "        files = df[df['Mouse_#'] == i]['Data_ID'].values\n",
    "        filename = np.hstack([filename, files])\n",
    "    return filename"
   ]
  },
  {
   "cell_type": "markdown",
   "metadata": {},
   "source": [
    "# Preprocessing"
   ]
  },
  {
   "cell_type": "code",
   "execution_count": 4,
   "metadata": {},
   "outputs": [],
   "source": [
    "import tifffile\n",
    "import gc\n",
    "\n",
    "def load_image(filename):\n",
    "    X_tmp = tifffile.imread(filename)\n",
    "    ax = X_tmp.shape\n",
    "    # 3 channel image\n",
    "    X = np.zeros((ax[0] - 2, 3, ax[1], ax[2]), dtype=np.uint16) # 16 bit image\n",
    "    X[:,0,:,:] = X_tmp[:-2, :, :]\n",
    "    X[:,1,:,:] = X_tmp[1:-1, :, :]\n",
    "    X[:,2,:,:] = X_tmp[2:, :, :]\n",
    "    del X_tmp\n",
    "    gc.collect();\n",
    "    return X"
   ]
  },
  {
   "cell_type": "code",
   "execution_count": 5,
   "metadata": {},
   "outputs": [],
   "source": [
    "from scipy import io\n",
    "\n",
    "def load_runrest(filename):\n",
    "    content = io.loadmat(filename)\n",
    "    Y = content['runrest'][:,1:-1].reshape([-1,1])\n",
    "    del content\n",
    "    gc.collect();\n",
    "    return Y"
   ]
  },
  {
   "cell_type": "markdown",
   "metadata": {},
   "source": [
    "# Save npz"
   ]
  },
  {
   "cell_type": "code",
   "execution_count": 6,
   "metadata": {},
   "outputs": [],
   "source": [
    "image_path = './data_of_image_64_5mice/'\n",
    "behavior_path = './data_of_behavior_64_5mice/'\n",
    "\n",
    "def save_image_npz(mouse_num):\n",
    "    for i in get_filename([mouse_num]):\n",
    "        print(i)\n",
    "        X = load_image(image_path + i + '.tif')\n",
    "        Y = load_runrest(behavior_path + i + '_behavior.mat')\n",
    "        for j in range(len(Y)):\n",
    "            x = X[j,:,:,:]\n",
    "            y = Y[j,:]\n",
    "            np.savez(f'./npz_data/{mouse_num}/{i}_{j}',image = x, label = y)\n",
    "        del X, Y\n",
    "        gc.collect();"
   ]
  },
  {
   "cell_type": "code",
   "execution_count": 7,
   "metadata": {
    "scrolled": false
   },
   "outputs": [
    {
     "name": "stdout",
     "output_type": "stream",
     "text": [
      "Mouse No.1\n",
      "20180125_Emx1G6_LR_1\n",
      "20180126_Emx1G6_LR_1\n",
      "20180129_Emx1G6_LR_1\n",
      "20180130_Emx1G6_LR_1\n",
      "20180131_Emx1G6_LR_1\n",
      "20180201_Emx1G6_LR_1\n",
      "20180206_Emx1G6_LR_1\n",
      "20180207_Emx1G6_LR_1\n",
      "20180208_Emx1G6_LR_1\n",
      "20180209_Emx1G6_LR_1\n",
      "20180213_Emx1G6_LR_1\n",
      "Mouse No.2\n",
      "20180125_Emx1G6_non_1\n",
      "20180126_Emx1G6_non_1\n",
      "20180129_Emx1G6_non_1\n",
      "20180130_Emx1G6_non_1\n",
      "20180131_Emx1G6_non_1\n",
      "20180201_Emx1G6_non_1\n",
      "20180205_Emx1G6_non_1\n",
      "20180209_Emx1G6_non_1\n",
      "20180213_Emx1G6_non_1\n",
      "20180214_Emx1G6_non_1\n",
      "20180215_Emx1G6_non_1\n",
      "20180216_Emx1G6_non_1\n",
      "Mouse No.3\n",
      "20180125_Emx1G6_R_1\n",
      "20180126_Emx1G6_R_1\n",
      "20180129_Emx1G6_R_1\n",
      "20180130_Emx1G6_R_1\n",
      "20180131_Emx1G6_R_1\n",
      "20180205_Emx1G6_R_1\n",
      "20180206_Emx1G6_R_1\n",
      "20180207_Emx1G6_R_1\n",
      "20180208_Emx1G6_R_1\n",
      "20180209_Emx1G6_R_1\n",
      "20180213_Emx1G6_R_1\n",
      "20180214_Emx1G6_R_1\n",
      "20180215_Emx1G6_R_1\n",
      "20180216_Emx1G6_R_1\n",
      "Mouse No.4\n",
      "20180321_Emx1G6_L_1\n",
      "20180322_Emx1G6_L_1\n",
      "20180323_Emx1G6_L_1\n",
      "20180326_Emx1G6_L_1\n",
      "20180327_Emx1G6_L_1\n",
      "20180328_Emx1G6_L_1\n",
      "20180403_Emx1G6_L_1\n",
      "20180404_Emx1G6_L_1\n",
      "20180405_Emx1G6_L_1\n",
      "20180406_Emx1G6_L_1\n",
      "20180409_Emx1G6_L_1\n",
      "20180410_Emx1G6_L_1\n",
      "20180411_Emx1G6_L_1\n",
      "20180412_Emx1G6_L_1\n",
      "20180413_Emx1G6_L_1\n",
      "Mouse No.5\n",
      "20180321_Emx1G6_non_1\n",
      "20180323_Emx1G6_non_1\n",
      "20180326_Emx1G6_non_1\n",
      "20180327_Emx1G6_non_1\n",
      "20180328_Emx1G6_non_1\n",
      "20180403_Emx1G6_non_1\n",
      "20180405_Emx1G6_non_1\n",
      "20180406_Emx1G6_non_1\n",
      "20180409_Emx1G6_non_1\n",
      "20180411_Emx1G6_non_1\n",
      "20180412_Emx1G6_non_1\n",
      "20180413_Emx1G6_non_1\n"
     ]
    }
   ],
   "source": [
    "for i in range(1,6):\n",
    "    print('Mouse No.'+str(i))\n",
    "    save_image_npz(i)"
   ]
  },
  {
   "cell_type": "code",
   "execution_count": null,
   "metadata": {},
   "outputs": [],
   "source": []
  }
 ],
 "metadata": {
  "kernelspec": {
   "display_name": "Python 3",
   "language": "python",
   "name": "python3"
  },
  "language_info": {
   "codemirror_mode": {
    "name": "ipython",
    "version": 3
   },
   "file_extension": ".py",
   "mimetype": "text/x-python",
   "name": "python",
   "nbconvert_exporter": "python",
   "pygments_lexer": "ipython3",
   "version": "3.6.10"
  }
 },
 "nbformat": 4,
 "nbformat_minor": 2
}
